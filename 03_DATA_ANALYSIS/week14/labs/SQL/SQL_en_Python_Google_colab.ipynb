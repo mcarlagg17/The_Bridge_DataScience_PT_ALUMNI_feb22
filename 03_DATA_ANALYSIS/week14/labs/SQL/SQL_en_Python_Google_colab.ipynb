{
  "nbformat": 4,
  "nbformat_minor": 0,
  "metadata": {
    "colab": {
      "name": "SQL en Python - Google colab",
      "provenance": []
    },
    "kernelspec": {
      "name": "python3",
      "display_name": "Python 3"
    },
    "language_info": {
      "name": "python"
    }
  },
  "cells": [
    {
      "cell_type": "markdown",
      "source": [
        "# Conectar PostgreSQL con Python"
      ],
      "metadata": {
        "id": "4JB9nAI3BnWk"
      }
    },
    {
      "cell_type": "code",
      "execution_count": 2,
      "metadata": {
        "id": "ysYf1fpd-Pb6",
        "colab": {
          "base_uri": "https://localhost:8080/",
          "height": 90
        },
        "outputId": "6a9615c2-4d58-4def-ba20-8ed8d5d7c5d8"
      },
      "outputs": [
        {
          "output_type": "stream",
          "name": "stderr",
          "text": [
            "/usr/local/lib/python3.7/dist-packages/psycopg2/__init__.py:144: UserWarning: The psycopg2 wheel package will be renamed from release 2.8; in order to keep installing from binary please use \"pip install psycopg2-binary\" instead. For details see: <http://initd.org/psycopg/docs/install.html#binary-install-from-pypi>.\n",
            "  \"\"\")\n"
          ]
        },
        {
          "output_type": "execute_result",
          "data": {
            "text/plain": [
              "'2.7.6.1 (dt dec pq3 ext lo64)'"
            ],
            "application/vnd.google.colaboratory.intrinsic+json": {
              "type": "string"
            }
          },
          "metadata": {},
          "execution_count": 2
        }
      ],
      "source": [
        "%shell\n",
        "import psycopg2\n",
        "psycopg2.__version__"
      ]
    },
    {
      "cell_type": "markdown",
      "source": [
        "## Conexión"
      ],
      "metadata": {
        "id": "RPdY5O8UCgv0"
      }
    },
    {
      "cell_type": "code",
      "source": [
        "# Realizamos la conexión con el servidor de HEROKU - es preferible utilizar una función para llamar las variables especial manera la contraseña...\n",
        "conn = psycopg2.connect(\n",
        "    host=\"ec2-54-75-184-144.eu-west-1.compute.amazonaws.com\",\n",
        "    database=\"d67fdgib1jjfep\",\n",
        "    user=\"lypcxfnvvvwhqn\",\n",
        "    password=\"03c8fec07c9ada65c400560904ebd8fd0d7e3dbe6f0321a34c72e681acb515d8\",\n",
        "    port=\"5432\"\n",
        ")"
      ],
      "metadata": {
        "id": "Ar91oGHXCiOl"
      },
      "execution_count": 3,
      "outputs": []
    },
    {
      "cell_type": "code",
      "source": [
        "query = \"\"\"\n",
        "SELECT * \n",
        "FROM rental\n",
        "LIMIT 15;\n",
        "\"\"\""
      ],
      "metadata": {
        "id": "tI2txnUyDikQ"
      },
      "execution_count": 4,
      "outputs": []
    },
    {
      "cell_type": "code",
      "source": [
        "# Creamos el cursor que nos permite de ejecutar la consulta\n",
        "cursor = conn.cursor()\n",
        "\n",
        "# Ejecutamos el cursor con la consulta\n",
        "cursor.execute(query)\n",
        "\n",
        "# Guardamos los resultados\n",
        "result = cursor.fetchone();\n",
        "result"
      ],
      "metadata": {
        "colab": {
          "base_uri": "https://localhost:8080/"
        },
        "id": "U0gzKdu6DquQ",
        "outputId": "ecc0c400-134b-4c73-dc08-716cfe2c8415"
      },
      "execution_count": 6,
      "outputs": [
        {
          "output_type": "execute_result",
          "data": {
            "text/plain": [
              "(2,\n",
              " datetime.datetime(2005, 5, 24, 22, 54, 33),\n",
              " 1525,\n",
              " 459,\n",
              " datetime.datetime(2005, 5, 28, 19, 40, 33),\n",
              " 1,\n",
              " datetime.datetime(2006, 2, 16, 2, 30, 53))"
            ]
          },
          "metadata": {},
          "execution_count": 6
        }
      ]
    }
  ]
}