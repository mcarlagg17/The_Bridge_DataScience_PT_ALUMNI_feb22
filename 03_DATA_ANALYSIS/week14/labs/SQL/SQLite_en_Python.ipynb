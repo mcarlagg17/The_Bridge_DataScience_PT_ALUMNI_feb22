{
  "nbformat": 4,
  "nbformat_minor": 0,
  "metadata": {
    "colab": {
      "name": "SQLite en Python",
      "provenance": [],
      "collapsed_sections": []
    },
    "kernelspec": {
      "name": "python3",
      "display_name": "Python 3"
    },
    "language_info": {
      "name": "python"
    }
  },
  "cells": [
    {
      "cell_type": "markdown",
      "source": [
        "# Conexión con SQLite"
      ],
      "metadata": {
        "id": "7VjxV1OAMzSt"
      }
    },
    {
      "cell_type": "code",
      "source": [
        "# importamos el módulo\n",
        "import sqlite3\n",
        "\n",
        "# Realizamos la conexión\n",
        "conn = sqlite3.connect(\"ejemplo.db\")\n",
        "\n",
        "# En caso de no encontrar la base de datos crea una nueva con el nombre asignado\n",
        "# Para crear una tabla\n",
        "cursor = conn.cursor()\n",
        "\n",
        "# Creamos una tabla de usuarios\n",
        "cursor.execute(\n",
        "    \"\"\"\n",
        "    CREATE TABLE IF NOT EXISTS usuarios\n",
        "    (\n",
        "        nombre VARCHAR(100),\n",
        "        edad INTEGER,\n",
        "        email VARCHAR(100),\n",
        "        created_on DATE\n",
        "    )\n",
        "    \"\"\"\n",
        ")\n",
        "\n",
        "# Guardamos los cambios haciendo un commit\n",
        "conn.commit()\n",
        "\n",
        "# Cerramos la conexión\n",
        "conn.close()"
      ],
      "metadata": {
        "id": "Wn44qOupM1j4"
      },
      "execution_count": 1,
      "outputs": []
    },
    {
      "cell_type": "markdown",
      "source": [
        "## Insertar valores en una tabla"
      ],
      "metadata": {
        "id": "HV29kNn2O_Pn"
      }
    },
    {
      "cell_type": "code",
      "source": [
        "import sqlite3\n",
        "\n",
        "conexion = sqlite3.connect('ejemplo.db')\n",
        "cursor = conexion.cursor()\n",
        "\n",
        "# Insertamos un registro en la tabla de usuarios\n",
        "cursor.execute(\"INSERT INTO usuarios VALUES \" \\\n",
        "    \"('Hector', 27, 'hector@ejemplo.com', '2022-06-04')\")\n",
        "\n",
        "# Guardamos los cambios haciendo un commit\n",
        "conexion.commit()\n",
        "\n",
        "conexion.close()"
      ],
      "metadata": {
        "id": "0yRvm1k0PAxY"
      },
      "execution_count": 3,
      "outputs": []
    },
    {
      "cell_type": "markdown",
      "source": [
        "### Lectura con SELECT"
      ],
      "metadata": {
        "id": "iBoMNatiPJMa"
      }
    },
    {
      "cell_type": "code",
      "execution_count": 4,
      "metadata": {
        "colab": {
          "base_uri": "https://localhost:8080/"
        },
        "id": "rpQIjMeKMnsG",
        "outputId": "dcdef7ed-91b3-4e79-9dbb-6d9d2ad806e0"
      },
      "outputs": [
        {
          "output_type": "stream",
          "name": "stdout",
          "text": [
            "<sqlite3.Cursor object at 0x7fbe08364180>\n",
            "('Hector', 27, 'hector@ejemplo.com', '2022-06-04')\n"
          ]
        }
      ],
      "source": [
        "import sqlite3\n",
        "\n",
        "conexion = sqlite3.connect('ejemplo.db')\n",
        "cursor = conexion.cursor()\n",
        "\n",
        "# Recuperamos los registros de la tabla de usuarios\n",
        "cursor.execute(\"SELECT * FROM usuarios\")\n",
        "\n",
        "# Mostrar el cursos a ver que hay ?\n",
        "print(cursor)\n",
        "\n",
        "# Recorremos el primer registro con el método fetchone, devuelve una tupla\n",
        "usuario = cursor.fetchone()\n",
        "print(usuario)\n",
        "\n",
        "conexion.close()"
      ]
    },
    {
      "cell_type": "markdown",
      "source": [
        "### Insert multiple"
      ],
      "metadata": {
        "id": "e7I83UfdPQgz"
      }
    },
    {
      "cell_type": "code",
      "source": [
        "import sqlite3\n",
        "\n",
        "conexion = sqlite3.connect('ejemplo.db')\n",
        "cursor = conexion.cursor()\n",
        "\n",
        "# Creamos una lista con varios usuarios\n",
        "usuarios = [('Mario', 51, 'mario@ejemplo.com', '2022-06-04'),\n",
        "            ('Mercedes', 38, 'mercedes@ejemplo.com', '2022-06-04'),\n",
        "            ('Juan', 19, 'juan@ejemplo.com', '2022-06-04')]\n",
        "\n",
        "# Ahora utilizamos el método executemany() para insertar varios\n",
        "cursor.executemany(\"INSERT INTO usuarios VALUES (?,?,?,?)\", usuarios)\n",
        "\n",
        "# Guardamos los cambios haciendo un commit\n",
        "conexion.commit()\n",
        "\n",
        "conexion.close()"
      ],
      "metadata": {
        "id": "Uvjn__KAPQSw"
      },
      "execution_count": 6,
      "outputs": []
    },
    {
      "cell_type": "markdown",
      "source": [
        "### Consulta multiple"
      ],
      "metadata": {
        "id": "phkMd5NMPzJg"
      }
    },
    {
      "cell_type": "code",
      "source": [
        "import sqlite3\n",
        "\n",
        "conexion = sqlite3.connect('ejemplo.db')\n",
        "cursor = conexion.cursor()\n",
        "\n",
        "# Recuperamos los registros de la tabla de usuarios\n",
        "cursor.execute(\"SELECT * FROM usuarios\")\n",
        "\n",
        "# Recorremos todos los registros con fetchall\n",
        "# y los volcamos en una lista de usuarios\n",
        "usuarios = cursor.fetchall()\n",
        "\n",
        "# Ahora podemos recorrer todos los usuarios\n",
        "for usuario in usuarios:\n",
        "    print(usuario)\n"
      ],
      "metadata": {
        "colab": {
          "base_uri": "https://localhost:8080/"
        },
        "id": "JBvLPaJgP0Ub",
        "outputId": "747220e9-5e97-4830-d74f-1f088737445b"
      },
      "execution_count": 9,
      "outputs": [
        {
          "output_type": "stream",
          "name": "stdout",
          "text": [
            "('Hector', 27, 'hector@ejemplo.com', '2022-06-04')\n",
            "('Mario', 51, 'mario@ejemplo.com', '2022-06-04')\n",
            "('Mercedes', 38, 'mercedes@ejemplo.com', '2022-06-04')\n",
            "('Juan', 19, 'juan@ejemplo.com', '2022-06-04')\n"
          ]
        }
      ]
    },
    {
      "cell_type": "code",
      "source": [
        "## Import Pandas SQL\n",
        "import pandas as pd"
      ],
      "metadata": {
        "id": "Gn81DVKrP84R"
      },
      "execution_count": 8,
      "outputs": []
    },
    {
      "cell_type": "code",
      "source": [
        "q = \"\"\"\n",
        "SELECT * FROM usuarios;\n",
        "\"\"\""
      ],
      "metadata": {
        "id": "Z8K3VLBtQjqo"
      },
      "execution_count": 12,
      "outputs": []
    },
    {
      "cell_type": "code",
      "source": [
        "pd.read_sql(q, conexion)"
      ],
      "metadata": {
        "colab": {
          "base_uri": "https://localhost:8080/",
          "height": 175
        },
        "id": "ZWQibhb1QK8M",
        "outputId": "137132a6-7ad1-4e19-dcd8-d0cca57ac6da"
      },
      "execution_count": 13,
      "outputs": [
        {
          "output_type": "execute_result",
          "data": {
            "text/plain": [
              "     nombre  edad                 email  created_on\n",
              "0    Hector    27    hector@ejemplo.com  2022-06-04\n",
              "1     Mario    51     mario@ejemplo.com  2022-06-04\n",
              "2  Mercedes    38  mercedes@ejemplo.com  2022-06-04\n",
              "3      Juan    19      juan@ejemplo.com  2022-06-04"
            ],
            "text/html": [
              "\n",
              "  <div id=\"df-679b8cec-93cd-480c-82c8-5598c9bcc7ed\">\n",
              "    <div class=\"colab-df-container\">\n",
              "      <div>\n",
              "<style scoped>\n",
              "    .dataframe tbody tr th:only-of-type {\n",
              "        vertical-align: middle;\n",
              "    }\n",
              "\n",
              "    .dataframe tbody tr th {\n",
              "        vertical-align: top;\n",
              "    }\n",
              "\n",
              "    .dataframe thead th {\n",
              "        text-align: right;\n",
              "    }\n",
              "</style>\n",
              "<table border=\"1\" class=\"dataframe\">\n",
              "  <thead>\n",
              "    <tr style=\"text-align: right;\">\n",
              "      <th></th>\n",
              "      <th>nombre</th>\n",
              "      <th>edad</th>\n",
              "      <th>email</th>\n",
              "      <th>created_on</th>\n",
              "    </tr>\n",
              "  </thead>\n",
              "  <tbody>\n",
              "    <tr>\n",
              "      <th>0</th>\n",
              "      <td>Hector</td>\n",
              "      <td>27</td>\n",
              "      <td>hector@ejemplo.com</td>\n",
              "      <td>2022-06-04</td>\n",
              "    </tr>\n",
              "    <tr>\n",
              "      <th>1</th>\n",
              "      <td>Mario</td>\n",
              "      <td>51</td>\n",
              "      <td>mario@ejemplo.com</td>\n",
              "      <td>2022-06-04</td>\n",
              "    </tr>\n",
              "    <tr>\n",
              "      <th>2</th>\n",
              "      <td>Mercedes</td>\n",
              "      <td>38</td>\n",
              "      <td>mercedes@ejemplo.com</td>\n",
              "      <td>2022-06-04</td>\n",
              "    </tr>\n",
              "    <tr>\n",
              "      <th>3</th>\n",
              "      <td>Juan</td>\n",
              "      <td>19</td>\n",
              "      <td>juan@ejemplo.com</td>\n",
              "      <td>2022-06-04</td>\n",
              "    </tr>\n",
              "  </tbody>\n",
              "</table>\n",
              "</div>\n",
              "      <button class=\"colab-df-convert\" onclick=\"convertToInteractive('df-679b8cec-93cd-480c-82c8-5598c9bcc7ed')\"\n",
              "              title=\"Convert this dataframe to an interactive table.\"\n",
              "              style=\"display:none;\">\n",
              "        \n",
              "  <svg xmlns=\"http://www.w3.org/2000/svg\" height=\"24px\"viewBox=\"0 0 24 24\"\n",
              "       width=\"24px\">\n",
              "    <path d=\"M0 0h24v24H0V0z\" fill=\"none\"/>\n",
              "    <path d=\"M18.56 5.44l.94 2.06.94-2.06 2.06-.94-2.06-.94-.94-2.06-.94 2.06-2.06.94zm-11 1L8.5 8.5l.94-2.06 2.06-.94-2.06-.94L8.5 2.5l-.94 2.06-2.06.94zm10 10l.94 2.06.94-2.06 2.06-.94-2.06-.94-.94-2.06-.94 2.06-2.06.94z\"/><path d=\"M17.41 7.96l-1.37-1.37c-.4-.4-.92-.59-1.43-.59-.52 0-1.04.2-1.43.59L10.3 9.45l-7.72 7.72c-.78.78-.78 2.05 0 2.83L4 21.41c.39.39.9.59 1.41.59.51 0 1.02-.2 1.41-.59l7.78-7.78 2.81-2.81c.8-.78.8-2.07 0-2.86zM5.41 20L4 18.59l7.72-7.72 1.47 1.35L5.41 20z\"/>\n",
              "  </svg>\n",
              "      </button>\n",
              "      \n",
              "  <style>\n",
              "    .colab-df-container {\n",
              "      display:flex;\n",
              "      flex-wrap:wrap;\n",
              "      gap: 12px;\n",
              "    }\n",
              "\n",
              "    .colab-df-convert {\n",
              "      background-color: #E8F0FE;\n",
              "      border: none;\n",
              "      border-radius: 50%;\n",
              "      cursor: pointer;\n",
              "      display: none;\n",
              "      fill: #1967D2;\n",
              "      height: 32px;\n",
              "      padding: 0 0 0 0;\n",
              "      width: 32px;\n",
              "    }\n",
              "\n",
              "    .colab-df-convert:hover {\n",
              "      background-color: #E2EBFA;\n",
              "      box-shadow: 0px 1px 2px rgba(60, 64, 67, 0.3), 0px 1px 3px 1px rgba(60, 64, 67, 0.15);\n",
              "      fill: #174EA6;\n",
              "    }\n",
              "\n",
              "    [theme=dark] .colab-df-convert {\n",
              "      background-color: #3B4455;\n",
              "      fill: #D2E3FC;\n",
              "    }\n",
              "\n",
              "    [theme=dark] .colab-df-convert:hover {\n",
              "      background-color: #434B5C;\n",
              "      box-shadow: 0px 1px 3px 1px rgba(0, 0, 0, 0.15);\n",
              "      filter: drop-shadow(0px 1px 2px rgba(0, 0, 0, 0.3));\n",
              "      fill: #FFFFFF;\n",
              "    }\n",
              "  </style>\n",
              "\n",
              "      <script>\n",
              "        const buttonEl =\n",
              "          document.querySelector('#df-679b8cec-93cd-480c-82c8-5598c9bcc7ed button.colab-df-convert');\n",
              "        buttonEl.style.display =\n",
              "          google.colab.kernel.accessAllowed ? 'block' : 'none';\n",
              "\n",
              "        async function convertToInteractive(key) {\n",
              "          const element = document.querySelector('#df-679b8cec-93cd-480c-82c8-5598c9bcc7ed');\n",
              "          const dataTable =\n",
              "            await google.colab.kernel.invokeFunction('convertToInteractive',\n",
              "                                                     [key], {});\n",
              "          if (!dataTable) return;\n",
              "\n",
              "          const docLinkHtml = 'Like what you see? Visit the ' +\n",
              "            '<a target=\"_blank\" href=https://colab.research.google.com/notebooks/data_table.ipynb>data table notebook</a>'\n",
              "            + ' to learn more about interactive tables.';\n",
              "          element.innerHTML = '';\n",
              "          dataTable['output_type'] = 'display_data';\n",
              "          await google.colab.output.renderOutput(dataTable, element);\n",
              "          const docLink = document.createElement('div');\n",
              "          docLink.innerHTML = docLinkHtml;\n",
              "          element.appendChild(docLink);\n",
              "        }\n",
              "      </script>\n",
              "    </div>\n",
              "  </div>\n",
              "  "
            ]
          },
          "metadata": {},
          "execution_count": 13
        }
      ]
    }
  ]
}